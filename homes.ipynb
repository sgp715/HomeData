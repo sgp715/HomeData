{
 "cells": [
  {
   "cell_type": "code",
   "execution_count": 1,
   "metadata": {},
   "outputs": [
    {
     "name": "stdout",
     "output_type": "stream",
     "text": [
      "           RegionName StateName  1996-01-31  1996-02-29  1996-03-31  \\\n",
      "0  Los Angeles County        CA    180856.0    180903.0    180992.0   \n",
      "1         Cook County        IL    151739.0    151513.0    151163.0   \n",
      "2       Harris County        TX    102209.0    102281.0    102292.0   \n",
      "3     Maricopa County        AZ    121139.0    121478.0    121863.0   \n",
      "4    San Diego County        CA    194522.0    194186.0    194005.0   \n",
      "5       Orange County        CA    224601.0    225520.0    225410.0   \n",
      "6        Kings County        NY    214461.0    213803.0    213384.0   \n",
      "7   Miami-Dade County        FL    122564.0    122718.0    122890.0   \n",
      "8       Dallas County        TX     98322.0     98383.0     98588.0   \n",
      "9       Queens County        NY    223504.0    223046.0    222935.0   \n",
      "\n",
      "   1996-04-30  1996-05-31  1996-06-30  1996-07-31  1996-08-31  ...  \\\n",
      "0    181173.0    181344.0    181554.0    181818.0    181834.0  ...   \n",
      "1    151032.0    150598.0    150652.0    150421.0    150720.0  ...   \n",
      "2    102437.0    102588.0    102685.0    102724.0    102783.0  ...   \n",
      "3    122605.0    123326.0    123977.0    124582.0    125132.0  ...   \n",
      "4    193623.0    193453.0    193325.0    193179.0    192949.0  ...   \n",
      "5    225461.0    225028.0    224733.0    224564.0    224494.0  ...   \n",
      "6    212672.0    212353.0    212310.0    212468.0    212617.0  ...   \n",
      "7    123216.0    123526.0    124057.0    124562.0    125022.0  ...   \n",
      "8     98917.0     99269.0     99491.0     99634.0     99810.0  ...   \n",
      "9    222567.0    222524.0    222380.0    222354.0    222360.0  ...   \n",
      "\n",
      "   2019-11-30  2019-12-31  2020-01-31  2020-02-29  2020-03-31  2020-04-30  \\\n",
      "0    654705.0    658126.0    661667.0    667390.0    673058.0    677947.0   \n",
      "1    246785.0    246545.0    246518.0    246690.0    247087.0    247408.0   \n",
      "2    202978.0    203537.0    203682.0    204133.0    205056.0    206158.0   \n",
      "3    303602.0    306056.0    308510.0    310765.0    313441.0    317071.0   \n",
      "4    643509.0    646877.0    651687.0    655652.0    660319.0    663515.0   \n",
      "5    795549.0    796953.0    800627.0    805569.0    810846.0    814521.0   \n",
      "6    831589.0    830887.0    831638.0    832786.0    834345.0    836785.0   \n",
      "7    353599.0    354012.0    354356.0    356431.0    358050.0    359497.0   \n",
      "8    225774.0    225675.0    225755.0    225764.0    226148.0    227110.0   \n",
      "9    714825.0    714853.0    715519.0    715944.0    715602.0    715942.0   \n",
      "\n",
      "   2020-05-31  2020-06-30  2020-07-31  2020-08-31  \n",
      "0    679840.0    681217.0    686660.0    694689.0  \n",
      "1    247841.0    248469.0    249699.0    251315.0  \n",
      "2    207014.0    207536.0    208171.0    208927.0  \n",
      "3    320268.0    323137.0    325885.0    329589.0  \n",
      "4    667445.0    669952.0    673445.0    679283.0  \n",
      "5    815806.0    816814.0    819981.0    827031.0  \n",
      "6    838964.0    841742.0    844002.0    848610.0  \n",
      "7    361186.0    362974.0    365216.0    367819.0  \n",
      "8    228256.0    229429.0    230619.0    231489.0  \n",
      "9    715489.0    716072.0    717290.0    719249.0  \n",
      "\n",
      "[10 rows x 298 columns]\n",
      "shape: (2860, 298)\n"
     ]
    }
   ],
   "source": [
    "import pandas as pd\n",
    "df = pd.read_csv(\"county.csv\", sep=\",\")\n",
    "# remove extraneous columns\n",
    "df.drop(df.columns[[0,1,3,5,6,7,8]], axis=1, inplace=True)\n",
    "print(df.head(10))\n",
    "print(\"shape: \" + str(df.shape))"
   ]
  },
  {
   "cell_type": "code",
   "execution_count": 2,
   "metadata": {},
   "outputs": [
    {
     "name": "stdout",
     "output_type": "stream",
     "text": [
      "           RegionName StateName        Date      ZHVI\n",
      "0  Los Angeles County        CA  1996-01-31  180856.0\n",
      "1         Cook County        IL  1996-01-31  151739.0\n",
      "2       Harris County        TX  1996-01-31  102209.0\n",
      "3     Maricopa County        AZ  1996-01-31  121139.0\n",
      "4    San Diego County        CA  1996-01-31  194522.0\n",
      "5       Orange County        CA  1996-01-31  224601.0\n",
      "6        Kings County        NY  1996-01-31  214461.0\n",
      "7   Miami-Dade County        FL  1996-01-31  122564.0\n",
      "8       Dallas County        TX  1996-01-31   98322.0\n",
      "9       Queens County        NY  1996-01-31  223504.0\n"
     ]
    }
   ],
   "source": [
    "fdf = df.melt(id_vars=[\"RegionName\", \"StateName\"], var_name=\"Date\", value_name=\"ZHVI\")\n",
    "print(fdf.head(10))"
   ]
  },
  {
   "cell_type": "code",
   "execution_count": null,
   "metadata": {},
   "outputs": [],
   "source": [
    "counties = fdf[\"RegionName\"].unique()\n",
    "print(counties)"
   ]
  },
  {
   "cell_type": "code",
   "execution_count": null,
   "metadata": {},
   "outputs": [],
   "source": [
    "county_dfs = {}\n",
    "for c in counties:\n",
    "    county_dfs[c] = (fdf.loc[fdf['RegionName'] == c])\n",
    "print(county_dfs)"
   ]
  },
  {
   "cell_type": "code",
   "execution_count": 5,
   "metadata": {},
   "outputs": [
    {
     "name": "stdout",
     "output_type": "stream",
     "text": [
      "                RegionName StateName        Date      ZHVI\n",
      "832260  Los Angeles County        CA  2020-04-30  677947.0\n",
      "835120  Los Angeles County        CA  2020-05-31  679840.0\n",
      "837980  Los Angeles County        CA  2020-06-30  681217.0\n",
      "840840  Los Angeles County        CA  2020-07-31  686660.0\n",
      "843700  Los Angeles County        CA  2020-08-31  694689.0\n"
     ]
    },
    {
     "data": {
      "text/plain": [
       "<matplotlib.axes._subplots.AxesSubplot at 0x11a8b1d50>"
      ]
     },
     "execution_count": 5,
     "metadata": {},
     "output_type": "execute_result"
    }
   ],
   "source": [
    "import matplotlib.pyplot as plt\n",
    "plt.figure()\n",
    "la_county = county_dfs[\"Los Angeles County\"]\n",
    "print(la_county.tail())\n",
    "la_county.plot(x='Date', y='ZHVI')"
   ]
  },
  {
   "cell_type": "code",
   "execution_count": 6,
   "metadata": {},
   "outputs": [
    {
     "name": "stdout",
     "output_type": "stream",
     "text": [
      "monthly inflation: 0.00291666666667\n",
      "1.0\n"
     ]
    },
    {
     "data": {
      "image/png": "[encoded data removed]",
      "text/plain": [
       "<Figure size 432x288 with 1 Axes>"
      ]
     },
     "metadata": {
      "needs_background": "light"
     },
     "output_type": "display_data"
    },
    {
     "name": "stdout",
     "output_type": "stream",
     "text": [
      "score: 0.7252776826644703\n",
      "coefficient: 0.008528113192175921\n"
     ]
    }
   ],
   "source": [
    "# calculate the normalized linear regression of county\n",
    "import numpy as np\n",
    "from sklearn.linear_model import LinearRegression\n",
    "linear_regressor = LinearRegression()\n",
    "X = np.arange(len(la_county.index)).reshape(-1, 1)\n",
    "first = la_county['ZHVI'].values[0]\n",
    "Y = la_county['ZHVI'].apply(lambda x: x / first).values.reshape(-1, 1)\n",
    "linear_regressor.fit(X, Y)\n",
    "plt.scatter(X, Y)\n",
    "Y_pred = linear_regressor.predict(X)\n",
    "plt.plot(X, Y_pred, color='green')\n",
    "\n",
    "# create data for inflation over same period\n",
    "months_in_year = 12\n",
    "yearly_inflation = 0.035\n",
    "monthly_inflation = yearly_inflation / months_in_year # annuaul inflation converted to months\n",
    "\n",
    "print(\"monthly inflation: \" + str(monthly_inflation))\n",
    "Y_inflation = [1 + (i * monthly_inflation) for i in range(len(la_county.index))]\n",
    "print(Y_inflation[0])\n",
    "plt.plot(X, Y_inflation, color='red')\n",
    "\n",
    "plt.show()\n",
    "print(\"score: \" + str(linear_regressor.score(X,Y)))\n",
    "print(\"coefficient: \" + str(linear_regressor.coef_[0][0]))"
   ]
  },
  {
   "cell_type": "code",
   "execution_count": 34,
   "metadata": {},
   "outputs": [],
   "source": [
    "def normalized_lr(data, column):\n",
    "    linear_regressor = LinearRegression()\n",
    "    X = np.arange(len(data.index)).reshape(-1, 1)\n",
    "    first = data[column].values[0]\n",
    "    Y = data[column].apply(lambda x: x / first).values.reshape(-1, 1)\n",
    "    linear_regressor.fit(X, Y)\n",
    "    return linear_regressor.score(X,Y), linear_regressor.coef_[0][0] * 12\n",
    "\n",
    "growths = []\n",
    "for c in counties:\n",
    "    #print(\"county: \" + c)\n",
    "    county_df = county_dfs[c].dropna()\n",
    "    r_squared, coef = normalized_lr(county_df, 'ZHVI')\n",
    "    #print(\"r^2: \" + str(r_squared))\n",
    "    #print(\"coef: \" + str(coef))\n",
    "    #print(\"\")\n",
    "    growths.append((c, coef, r_squared))\n",
    "growths.sort(key=lambda x: x[1], reverse=True)"
   ]
  },
  {
   "cell_type": "code",
   "execution_count": 30,
   "metadata": {
    "scrolled": true
   },
   "outputs": [
    {
     "name": "stdout",
     "output_type": "stream",
     "text": [
      "[('Blaine County', 0.2109649379348471, 0.10470124686196791), ('New York County', 0.16182259483620448, 0.9100145695625423), ('Phillips County', 0.1584590299728889, 0.22474304656094068), ('San Mateo County', 0.14999580454401648, 0.8578123266317119), ('San Francisco County', 0.1489388618322499, 0.8676160202439902), ('Reeves County', 0.14784392506622296, 0.9929376236608674), ('Santa Clara County', 0.14082362398191936, 0.8883921654762653), ('Grenada County', 0.1341393307322208, 0.9581094489245124), ('Alameda County', 0.1328524023129632, 0.8238097105925719), ('Gem County', 0.1274117231435246, 0.9806939429706707), ('Dallam County', 0.12246259747943639, 0.9915355609752506), ('District of Columbia', 0.12008365123921515, 0.9301455075916284), ('Charles Mix County', 0.11795320124335512, 0.9795365605033369), ('Napa County', 0.11708741291182029, 0.7820125798424683), ('Gentry County', 0.11678150001081924, 0.9521571260094327), ('Garfield County', 0.11615596170143588, 0.3266863023650244), ('Andrews County', 0.11251616504223688, 0.9259890926941241), ('Antelope County', 0.10928702175070693, 0.9815096152880181), ('Dukes County', 0.10685842071704169, 0.8526529472281046), ('Arlington County', 0.10678624999687786, 0.8820897951947746), ('Routt County', 0.10631961399995646, 0.9669406508601104), ('Richardson County', 0.10487974986875251, 0.9709584623658393), ('Spalding County', 0.10473693470208723, 0.9700250640135664), ('Preston County', 0.10461156791926957, 0.9713051762415799), ('Los Angeles County', 0.10233735830611106, 0.7252776826644703), ('Nantucket County', 0.09937028559153314, 0.8706980256612772), ('Madera County', 0.0973968819073893, 0.6360481510310385), ('Contra Costa County', 0.0960988594681697, 0.6685500460465884), ('Gray County', 0.09510202665222295, 0.4623728044857964), ('Beadle County', 0.09494950066769045, 0.957170211065339), ('San Augustine County', 0.09436821180895699, 0.9294379113211892), ('Alexandria City', 0.09385843460725592, 0.7924437860427757), ('Bollinger County', 0.09361129980406836, 0.949885193268659), ('Benewah County', 0.09298729713803454, 0.9647827921438045), ('Hood River County', 0.09282930054640569, 0.8632341546488218), ('Denver County', 0.09237337692639994, 0.8124281475028424), ('King County', 0.09207795686431933, 0.7983261109086747), ('Ector County', 0.09155289995558041, 0.942673607245853), ('Grainger County', 0.09129274995184909, 0.9505265675306835), ('Gila County', 0.09117515152933608, 0.8013830264156482), ('Daggett County', 0.09109070252410076, 0.9813564926946565), ('Kit Carson County', 0.09072858805263437, 0.980565439902368), ('Tom Green County', 0.09030697357607728, 0.9716257497363423), ('Gilchrist County', 0.08975588979729758, 0.675089656464421), ('San Luis Obispo County', 0.08975232134694462, 0.6504253679372684), ('Dixie County', 0.08926781205655804, 0.7080642511602129), ('Moffat County', 0.08923153005092725, 0.9608469391074066), ('Multnomah County', 0.08862524815214386, 0.8693343073988375), ('Edmunds County', 0.08861149136592865, 0.9556201509045978), ('Traverse County', 0.08772805140500689, 0.9757980499185038), ('Costilla County', 0.08752642314574016, 0.9885586882843599), ('Skamania County', 0.08688233069458733, 0.8377252419071457), ('Greer County', 0.08674311156749784, 0.9691839124921147), ('Deaf Smith County', 0.08598136385208525, 0.9268929169676525), ('Nemaha County', 0.08589637317831252, 0.964522862664559), ('Queens County', 0.08580658692531716, 0.868350073010459), ('Moody County', 0.08551146632213721, 0.9775012774991046), ('Navajo County', 0.08533996349687265, 0.780740061282047), ('Whatcom County', 0.08484771758815572, 0.8252475087697386), ('Roseau County', 0.08362045698663889, 0.9481025887464821), ('Falls Church City', 0.08236664886169376, 0.8581234613767952), ('Oregon County', 0.08216049250642257, 0.9401282990518542), ('Marin County', 0.08214550509853374, 0.7770117433795831), ('Real County', 0.08172935976980433, 0.9754472818326191), ('San Diego County', 0.08168739425525509, 0.6329341739771333), ('Shasta County', 0.08167840786575763, 0.7057340927464986), ('Wilkin County', 0.08129719358917545, 0.8847342921995829), ('Pipestone County', 0.08121733107904008, 0.9669275742957124), ('Winkler County', 0.08114058555299358, 0.8412648994012104), ('Haskell County', 0.08048366391261848, 0.8655635573641716), ('Gulf County', 0.07975026198041366, 0.5380042125318125), ('Cheyenne County', 0.07946176323946702, 0.5660823988333017), ('Monterey County', 0.07914228264516612, 0.4868884156720806), ('Belknap County', 0.07894485339596786, 0.7579222876722294), ('Cape May County', 0.07886091879220511, 0.5928560816493345), ('Deschutes County', 0.07883637663798942, 0.6954578256759008), ('Eureka County', 0.07777635768622188, 0.7252249005094675), ('Owyhee County', 0.07771678395420864, 0.8192071814840547), ('Reagan County', 0.07765582114359297, 0.8717212179163792), ('Honolulu County', 0.07755277011329242, 0.8954849019574844), ('Wakulla County', 0.07750851149909738, 0.6770703926065792), ('Lamoille County', 0.07715929602635488, 0.8565218716724751), ('Lamb County', 0.0769104555801043, 0.9957706148801642), ('Norman County', 0.07685703870583968, 0.9822885770243331), ('San Bernardino County', 0.07682984452599789, 0.49203317580801964), ('Solano County', 0.0767527996101568, 0.5106126744333624), ('Kimble County', 0.07602024325322551, 0.9867437315931576), ('Gallatin County', 0.07598062980861844, 0.21394127341928168), ('Scurry County', 0.0756864271476144, 0.9063558233142144), ('San Joaquin County', 0.0755885877555067, 0.494753111112653), ('Maui County', 0.07543261128718659, 0.7544672244148511), ('Limestone County', 0.07535778052895899, 0.5209232472764679), ('Pickett County', 0.07513343148523124, 0.887055098028118), ('Boulder County', 0.07511749062840893, 0.8676651791696395), ('Judith Basin County', 0.07507877950408802, 0.9707037489892781), ('Eagle County', 0.07481477016771954, 0.8154301857856318), ('Stanislaus County', 0.07433316181427452, 0.8116077344528589), ('Bingham County', 0.07425354686464834, 0.8533478585150726), ('Crane County', 0.07425346805463343, 0.8428656341246832), ('Barnstable County', 0.07410195659423703, 0.607757955935494)]\n"
     ]
    }
   ],
   "source": []
  },
  {
   "cell_type": "code",
   "execution_count": null,
   "metadata": {},
   "outputs": [],
   "source": []
  }
 ],
 "metadata": {
  "kernelspec": {
   "display_name": "Python 2",
   "language": "python",
   "name": "python2"
  },
  "language_info": {
   "codemirror_mode": {
    "name": "ipython",
    "version": 2
   },
   "file_extension": ".py",
   "mimetype": "text/x-python",
   "name": "python",
   "nbconvert_exporter": "python",
   "pygments_lexer": "ipython2",
   "version": "2.7.16"
  }
 },
 "nbformat": 4,
 "nbformat_minor": 1
}
