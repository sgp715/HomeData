{
 "cells": [
  {
   "cell_type": "code",
   "execution_count": 1,
   "metadata": {},
   "outputs": [
    {
     "name": "stdout",
     "output_type": "stream",
     "text": [
      "           RegionName StateName  1996-01-31  1996-02-29  1996-03-31  \\\n",
      "0  Los Angeles County        CA    180856.0    180903.0    180992.0   \n",
      "1         Cook County        IL    151739.0    151513.0    151163.0   \n",
      "2       Harris County        TX    102209.0    102281.0    102292.0   \n",
      "3     Maricopa County        AZ    121139.0    121478.0    121863.0   \n",
      "4    San Diego County        CA    194522.0    194186.0    194005.0   \n",
      "5       Orange County        CA    224601.0    225520.0    225410.0   \n",
      "6        Kings County        NY    214461.0    213803.0    213384.0   \n",
      "7   Miami-Dade County        FL    122564.0    122718.0    122890.0   \n",
      "8       Dallas County        TX     98322.0     98383.0     98588.0   \n",
      "9       Queens County        NY    223504.0    223046.0    222935.0   \n",
      "\n",
      "   1996-04-30  1996-05-31  1996-06-30  1996-07-31  1996-08-31  ...  \\\n",
      "0    181173.0    181344.0    181554.0    181818.0    181834.0  ...   \n",
      "1    151032.0    150598.0    150652.0    150421.0    150720.0  ...   \n",
      "2    102437.0    102588.0    102685.0    102724.0    102783.0  ...   \n",
      "3    122605.0    123326.0    123977.0    124582.0    125132.0  ...   \n",
      "4    193623.0    193453.0    193325.0    193179.0    192949.0  ...   \n",
      "5    225461.0    225028.0    224733.0    224564.0    224494.0  ...   \n",
      "6    212672.0    212353.0    212310.0    212468.0    212617.0  ...   \n",
      "7    123216.0    123526.0    124057.0    124562.0    125022.0  ...   \n",
      "8     98917.0     99269.0     99491.0     99634.0     99810.0  ...   \n",
      "9    222567.0    222524.0    222380.0    222354.0    222360.0  ...   \n",
      "\n",
      "   2019-11-30  2019-12-31  2020-01-31  2020-02-29  2020-03-31  2020-04-30  \\\n",
      "0    654705.0    658126.0    661667.0    667390.0    673058.0    677947.0   \n",
      "1    246785.0    246545.0    246518.0    246690.0    247087.0    247408.0   \n",
      "2    202978.0    203537.0    203682.0    204133.0    205056.0    206158.0   \n",
      "3    303602.0    306056.0    308510.0    310765.0    313441.0    317071.0   \n",
      "4    643509.0    646877.0    651687.0    655652.0    660319.0    663515.0   \n",
      "5    795549.0    796953.0    800627.0    805569.0    810846.0    814521.0   \n",
      "6    831589.0    830887.0    831638.0    832786.0    834345.0    836785.0   \n",
      "7    353599.0    354012.0    354356.0    356431.0    358050.0    359497.0   \n",
      "8    225774.0    225675.0    225755.0    225764.0    226148.0    227110.0   \n",
      "9    714825.0    714853.0    715519.0    715944.0    715602.0    715942.0   \n",
      "\n",
      "   2020-05-31  2020-06-30  2020-07-31  2020-08-31  \n",
      "0    679840.0    681217.0    686660.0    694689.0  \n",
      "1    247841.0    248469.0    249699.0    251315.0  \n",
      "2    207014.0    207536.0    208171.0    208927.0  \n",
      "3    320268.0    323137.0    325885.0    329589.0  \n",
      "4    667445.0    669952.0    673445.0    679283.0  \n",
      "5    815806.0    816814.0    819981.0    827031.0  \n",
      "6    838964.0    841742.0    844002.0    848610.0  \n",
      "7    361186.0    362974.0    365216.0    367819.0  \n",
      "8    228256.0    229429.0    230619.0    231489.0  \n",
      "9    715489.0    716072.0    717290.0    719249.0  \n",
      "\n",
      "[10 rows x 298 columns]\n",
      "shape: (2860, 298)\n"
     ]
    }
   ],
   "source": [
    "import pandas as pd\n",
    "df = pd.read_csv(\"county.csv\", sep=\",\")\n",
    "# remove extraneous columns\n",
    "df.drop(df.columns[[0,1,3,5,6,7,8]], axis=1, inplace=True)\n",
    "print(df.head(10))\n",
    "print(\"shape: \" + str(df.shape))"
   ]
  },
  {
   "cell_type": "code",
   "execution_count": 29,
   "metadata": {},
   "outputs": [
    {
     "name": "stdout",
     "output_type": "stream",
     "text": [
      "           RegionName StateName        Date      ZHVI\n",
      "0  Los Angeles County        CA  1996-01-31  180856.0\n",
      "1         Cook County        IL  1996-01-31  151739.0\n",
      "2       Harris County        TX  1996-01-31  102209.0\n",
      "3     Maricopa County        AZ  1996-01-31  121139.0\n",
      "4    San Diego County        CA  1996-01-31  194522.0\n",
      "5       Orange County        CA  1996-01-31  224601.0\n",
      "6        Kings County        NY  1996-01-31  214461.0\n",
      "7   Miami-Dade County        FL  1996-01-31  122564.0\n",
      "8       Dallas County        TX  1996-01-31   98322.0\n",
      "9       Queens County        NY  1996-01-31  223504.0\n"
     ]
    }
   ],
   "source": [
    "fdf = df.melt(id_vars=[\"RegionName\", \"StateName\"], var_name=\"Date\", value_name=\"ZHVI\")\n",
    "print(fdf.head(10))"
   ]
  },
  {
   "cell_type": "code",
   "execution_count": 31,
   "metadata": {},
   "outputs": [
    {
     "name": "stdout",
     "output_type": "stream",
     "text": [
      "['Los Angeles County' 'Cook County' 'Harris County' ... 'Camas County'\n",
      " 'Daggett County' 'Hinsdale County']\n"
     ]
    }
   ],
   "source": [
    "counties = fdf[\"RegionName\"].unique()\n",
    "print(counties)"
   ]
  },
  {
   "cell_type": "code",
   "execution_count": 32,
   "metadata": {},
   "outputs": [
    {
     "name": "stdout",
     "output_type": "stream",
     "text": [
      "0\n",
      "10\n",
      "20\n",
      "30\n",
      "40\n",
      "50\n",
      "60\n",
      "70\n",
      "80\n",
      "90\n",
      "100\n",
      "110\n",
      "120\n",
      "130\n",
      "140\n",
      "150\n",
      "160\n",
      "170\n",
      "180\n",
      "190\n",
      "200\n",
      "210\n",
      "220\n",
      "230\n",
      "240\n",
      "250\n",
      "260\n",
      "270\n",
      "280\n",
      "290\n",
      "300\n",
      "310\n",
      "320\n",
      "330\n",
      "340\n",
      "350\n",
      "360\n",
      "370\n",
      "380\n",
      "390\n",
      "400\n",
      "410\n",
      "420\n",
      "430\n",
      "440\n",
      "450\n",
      "460\n",
      "470\n",
      "480\n",
      "490\n",
      "500\n",
      "510\n",
      "520\n",
      "530\n",
      "540\n",
      "550\n",
      "560\n",
      "570\n",
      "580\n",
      "590\n",
      "600\n",
      "610\n",
      "620\n",
      "630\n",
      "640\n",
      "650\n",
      "660\n",
      "670\n",
      "680\n",
      "690\n",
      "700\n",
      "710\n",
      "720\n",
      "730\n",
      "740\n",
      "750\n",
      "760\n",
      "770\n",
      "780\n",
      "790\n",
      "800\n",
      "810\n",
      "820\n",
      "830\n",
      "840\n",
      "850\n",
      "860\n",
      "870\n",
      "880\n",
      "890\n",
      "900\n",
      "910\n",
      "920\n",
      "930\n",
      "940\n",
      "950\n",
      "960\n",
      "970\n",
      "980\n",
      "990\n",
      "1000\n",
      "1010\n",
      "1020\n",
      "1030\n",
      "1040\n",
      "1050\n",
      "1060\n",
      "1070\n",
      "1080\n",
      "1090\n",
      "1100\n",
      "1110\n",
      "1120\n",
      "1130\n",
      "1140\n",
      "1150\n",
      "1160\n",
      "1170\n",
      "1180\n",
      "1190\n",
      "1200\n",
      "1210\n",
      "1220\n",
      "1230\n",
      "1240\n",
      "1250\n",
      "1260\n",
      "1270\n",
      "1280\n",
      "1290\n",
      "1300\n",
      "1310\n",
      "1320\n",
      "1330\n",
      "1340\n",
      "1350\n",
      "1360\n",
      "1370\n",
      "1380\n",
      "1390\n",
      "1400\n",
      "1410\n",
      "1420\n",
      "1430\n",
      "1440\n",
      "1450\n",
      "1460\n",
      "1470\n",
      "1480\n",
      "1490\n",
      "1500\n",
      "1510\n",
      "1520\n",
      "1530\n",
      "1540\n",
      "1550\n",
      "1560\n",
      "1570\n",
      "1580\n",
      "1590\n",
      "1600\n",
      "1610\n",
      "1620\n",
      "1630\n",
      "1640\n",
      "1650\n",
      "1660\n",
      "1670\n",
      "1680\n",
      "1690\n",
      "1700\n",
      "1710\n",
      "1720\n",
      "1730\n"
     ]
    },
    {
     "name": "stderr",
     "output_type": "stream",
     "text": [
      "IOPub data rate exceeded.\n",
      "The notebook server will temporarily stop sending output\n",
      "to the client in order to avoid crashing it.\n",
      "To change this limit, set the config variable\n",
      "`--NotebookApp.iopub_data_rate_limit`.\n",
      "\n",
      "Current values:\n",
      "NotebookApp.iopub_data_rate_limit=1000000.0 (bytes/sec)\n",
      "NotebookApp.rate_limit_window=3.0 (secs)\n",
      "\n"
     ]
    }
   ],
   "source": [
    "county_dfs = {}\n",
    "i = 0\n",
    "for c in counties:\n",
    "    if i % 10 == 0:\n",
    "        print(i)\n",
    "    county_dfs[c] = (fdf.loc[fdf['RegionName'] == c])\n",
    "    i += 1\n",
    "print(county_dfs)"
   ]
  },
  {
   "cell_type": "code",
   "execution_count": 35,
   "metadata": {},
   "outputs": [
    {
     "name": "stdout",
     "output_type": "stream",
     "text": [
      "                RegionName StateName        Date      ZHVI\n",
      "832260  Los Angeles County        CA  2020-04-30  677947.0\n",
      "835120  Los Angeles County        CA  2020-05-31  679840.0\n",
      "837980  Los Angeles County        CA  2020-06-30  681217.0\n",
      "840840  Los Angeles County        CA  2020-07-31  686660.0\n",
      "843700  Los Angeles County        CA  2020-08-31  694689.0\n"
     ]
    },
    {
     "data": {
      "text/plain": [
       "<matplotlib.axes._subplots.AxesSubplot at 0x11f9f9110>"
      ]
     },
     "execution_count": 35,
     "metadata": {},
     "output_type": "execute_result"
    },
    {
     "data": {
      "text/plain": [
       "<Figure size 432x288 with 0 Axes>"
      ]
     },
     "metadata": {},
     "output_type": "display_data"
    },
    {
     "data": {
      "image/png": "[encoded data removed]",
      "text/plain": [
       "<Figure size 432x288 with 1 Axes>"
      ]
     },
     "metadata": {
      "needs_background": "light"
     },
     "output_type": "display_data"
    }
   ],
   "source": [
    "import matplotlib.pyplot as plt\n",
    "plt.figure()\n",
    "la_county = county_dfs[\"Los Angeles County\"]\n",
    "print(la_county.tail())\n",
    "la_county.plot(x='Date', y='ZHVI')"
   ]
  },
  {
   "cell_type": "code",
   "execution_count": null,
   "metadata": {},
   "outputs": [],
   "source": [
    "months_in_year = 12\n",
    "period = 5 * months_in_year\n"
   ]
  }
 ],
 "metadata": {
  "kernelspec": {
   "display_name": "Python 2",
   "language": "python",
   "name": "python2"
  },
  "language_info": {
   "codemirror_mode": {
    "name": "ipython",
    "version": 2
   },
   "file_extension": ".py",
   "mimetype": "text/x-python",
   "name": "python",
   "nbconvert_exporter": "python",
   "pygments_lexer": "ipython2",
   "version": "2.7.16"
  }
 },
 "nbformat": 4,
 "nbformat_minor": 1
}
